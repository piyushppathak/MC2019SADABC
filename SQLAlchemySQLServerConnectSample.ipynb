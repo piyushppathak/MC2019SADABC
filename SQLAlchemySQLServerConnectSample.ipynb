{
 "cells": [
  {
   "cell_type": "code",
   "execution_count": 1,
   "metadata": {},
   "outputs": [],
   "source": [
    "#library to use dataframes\n",
    "import pandas as pd\n",
    "\n",
    "#library to encode and parse strings \n",
    "import urllib\n",
    "\n",
    "#library to connect & interact with databases\n",
    "from sqlalchemy import create_engine, inspect"
   ]
  },
  {
   "cell_type": "markdown",
   "metadata": {},
   "source": [
    "IMPORTANT : Depending on SQL Server version use one from following\n",
    "\n",
    "{SQL Server} - released with SQL Server 2000\n",
    "\n",
    "{SQL Native Client} - released with SQL Server 2005 (also known as version 9.0)\n",
    "\n",
    "{SQL Server Native Client 10.0} - released with SQL Server 2008\n",
    "\n",
    "{SQL Server Native Client 11.0} - released with SQL Server 2012\n",
    "\n",
    "{ODBC Driver 11 for SQL Server} - supports SQL Server 2005 through 2014\n",
    "\n",
    "{ODBC Driver 13 for SQL Server} - supports SQL Server 2005 through 2016\n",
    "\n",
    "{ODBC Driver 13.1 for SQL Server} - supports SQL Server 2008 through 2016\n",
    "\n",
    "{ODBC Driver 17 for SQL Server} - supports SQL Server 2008 through 2017"
   ]
  },
  {
   "cell_type": "code",
   "execution_count": 2,
   "metadata": {},
   "outputs": [],
   "source": [
    "# set the connection string to SQL Server database in a variable\n",
    "db_conn_params = urllib.parse.quote_plus(\"DRIVER={SQL Server Native Client 11.0};SERVER={SERVER_NAME}\\\\{INSTANCE_NAME};DATABASE=pubs;trusted_connection=yes\")\n",
    "\n",
    "# set the connection to SQLite database in a variable\n",
    "engine = create_engine(\"mssql+pyodbc:///?odbc_connect=%s\" % db_conn_params)"
   ]
  },
  {
   "cell_type": "code",
   "execution_count": 3,
   "metadata": {},
   "outputs": [
    {
     "data": {
      "text/plain": [
       "['authors',\n",
       " 'discounts',\n",
       " 'employee',\n",
       " 'jobs',\n",
       " 'pub_info',\n",
       " 'publishers',\n",
       " 'roysched',\n",
       " 'sales',\n",
       " 'stores',\n",
       " 'titleauthor',\n",
       " 'titles']"
      ]
     },
     "execution_count": 3,
     "metadata": {},
     "output_type": "execute_result"
    }
   ],
   "source": [
    "#get a list of all the tables in the database\n",
    "engine.table_names()"
   ]
  },
  {
   "cell_type": "code",
   "execution_count": 4,
   "metadata": {},
   "outputs": [
    {
     "data": {
      "text/html": [
       "<div>\n",
       "<style scoped>\n",
       "    .dataframe tbody tr th:only-of-type {\n",
       "        vertical-align: middle;\n",
       "    }\n",
       "\n",
       "    .dataframe tbody tr th {\n",
       "        vertical-align: top;\n",
       "    }\n",
       "\n",
       "    .dataframe thead th {\n",
       "        text-align: right;\n",
       "    }\n",
       "</style>\n",
       "<table border=\"1\" class=\"dataframe\">\n",
       "  <thead>\n",
       "    <tr style=\"text-align: right;\">\n",
       "      <th></th>\n",
       "      <th>au_id</th>\n",
       "      <th>title_id</th>\n",
       "      <th>au_ord</th>\n",
       "      <th>royaltyper</th>\n",
       "      <th>au_id</th>\n",
       "      <th>au_lname</th>\n",
       "      <th>au_fname</th>\n",
       "      <th>phone</th>\n",
       "      <th>address</th>\n",
       "      <th>city</th>\n",
       "      <th>state</th>\n",
       "      <th>zip</th>\n",
       "      <th>contract</th>\n",
       "    </tr>\n",
       "  </thead>\n",
       "  <tbody>\n",
       "    <tr>\n",
       "      <th>0</th>\n",
       "      <td>213-46-8915</td>\n",
       "      <td>BU1032</td>\n",
       "      <td>2</td>\n",
       "      <td>40</td>\n",
       "      <td>213-46-8915</td>\n",
       "      <td>Green</td>\n",
       "      <td>Marjorie</td>\n",
       "      <td>415 986-7020</td>\n",
       "      <td>309 63rd St. #411</td>\n",
       "      <td>Oakland</td>\n",
       "      <td>CA</td>\n",
       "      <td>94618</td>\n",
       "      <td>True</td>\n",
       "    </tr>\n",
       "    <tr>\n",
       "      <th>1</th>\n",
       "      <td>213-46-8915</td>\n",
       "      <td>BU2075</td>\n",
       "      <td>1</td>\n",
       "      <td>100</td>\n",
       "      <td>213-46-8915</td>\n",
       "      <td>Green</td>\n",
       "      <td>Marjorie</td>\n",
       "      <td>415 986-7020</td>\n",
       "      <td>309 63rd St. #411</td>\n",
       "      <td>Oakland</td>\n",
       "      <td>CA</td>\n",
       "      <td>94618</td>\n",
       "      <td>True</td>\n",
       "    </tr>\n",
       "  </tbody>\n",
       "</table>\n",
       "</div>"
      ],
      "text/plain": [
       "         au_id title_id  au_ord  royaltyper        au_id au_lname  au_fname  \\\n",
       "0  213-46-8915   BU1032       2          40  213-46-8915    Green  Marjorie   \n",
       "1  213-46-8915   BU2075       1         100  213-46-8915    Green  Marjorie   \n",
       "\n",
       "          phone            address     city state    zip  contract  \n",
       "0  415 986-7020  309 63rd St. #411  Oakland    CA  94618      True  \n",
       "1  415 986-7020  309 63rd St. #411  Oakland    CA  94618      True  "
      ]
     },
     "execution_count": 4,
     "metadata": {},
     "output_type": "execute_result"
    }
   ],
   "source": [
    "#get all the rows from the \"authors\" table in the database\n",
    "sql = \"SELECT * FROM titleauthor JOIN authors ON authors.au_id = titleauthor.au_id WHERE authors.au_lname = 'Green';\"\n",
    "\n",
    "#the read_sql function takes in the SQL statement for the information requested and the engine (to connect to database)\n",
    "authors_data_df = pd.read_sql(sql, engine)\n",
    "authors_data_df"
   ]
  },
  {
   "cell_type": "code",
   "execution_count": null,
   "metadata": {},
   "outputs": [],
   "source": []
  }
 ],
 "metadata": {
  "celltoolbar": "Raw Cell Format",
  "kernelspec": {
   "display_name": "Python 3",
   "language": "python",
   "name": "python3"
  },
  "language_info": {
   "codemirror_mode": {
    "name": "ipython",
    "version": 3
   },
   "file_extension": ".py",
   "mimetype": "text/x-python",
   "name": "python",
   "nbconvert_exporter": "python",
   "pygments_lexer": "ipython3",
   "version": "3.6.5"
  }
 },
 "nbformat": 4,
 "nbformat_minor": 2
}
